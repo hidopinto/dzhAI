{
 "cells": [
  {
   "cell_type": "code",
   "execution_count": 2,
   "id": "initial_id",
   "metadata": {
    "collapsed": true,
    "ExecuteTime": {
     "end_time": "2024-06-26T14:10:09.868975525Z",
     "start_time": "2024-06-26T14:10:09.453490331Z"
    }
   },
   "outputs": [],
   "source": [
    "import pandas as pd\n",
    "import numpy as np\n",
    "import matplotlib.pyplot as plt\n",
    "import seaborn as sns\n",
    "from sklearn.model_selection import train_test_split\n",
    "import lightgbm as lgb\n",
    "from sklearn import metrics"
   ]
  },
  {
   "cell_type": "code",
   "outputs": [],
   "source": [
    "admission_data =  pd.read_csv('../Data/HDHI Admission data.csv', index_col=0)"
   ],
   "metadata": {
    "collapsed": false,
    "ExecuteTime": {
     "end_time": "2024-06-26T14:22:58.254783046Z",
     "start_time": "2024-06-26T14:22:58.062092742Z"
    }
   },
   "id": "a45a6de99ca55a1f",
   "execution_count": 3
  },
  {
   "cell_type": "code",
   "outputs": [
    {
     "data": {
      "text/plain": "Index([    1,     2,     3,     4,     5,     6,     7,     8,     9,    10,\n       ...\n       15748, 15749, 15750, 15751, 15752, 15753, 15754, 15755, 15756, 15757],\n      dtype='int64', name='SNO', length=15757)"
     },
     "execution_count": 5,
     "metadata": {},
     "output_type": "execute_result"
    }
   ],
   "source": [
    "# remove rows with high number of missing values\n",
    "admission_data.dropna(thresh=0.8*admission_data.shape[1], inplace=True)\n",
    "admission_data"
   ],
   "metadata": {
    "collapsed": false,
    "ExecuteTime": {
     "end_time": "2024-06-26T14:23:14.416249762Z",
     "start_time": "2024-06-26T14:23:14.410830120Z"
    }
   },
   "id": "aeb8489f36982b99",
   "execution_count": 5
  },
  {
   "cell_type": "markdown",
   "source": [
    "# Data Cleaning"
   ],
   "metadata": {
    "collapsed": false
   },
   "id": "fbadcfec4a041415"
  },
  {
   "cell_type": "code",
   "outputs": [],
   "source": [
    "# convert the date columns to datetime\n",
    "admission_data['D.O.A'] = pd.to_datetime(admission_data['D.O.A'], format='%m/%d/%Y')"
   ],
   "metadata": {
    "collapsed": false,
    "ExecuteTime": {
     "end_time": "2024-06-26T14:54:37.578794056Z",
     "start_time": "2024-06-26T14:54:37.561112732Z"
    }
   },
   "id": "cbdec4e6d814046c",
   "execution_count": 22
  },
  {
   "cell_type": "code",
   "outputs": [],
   "source": [
    "# create a column of daily_order_of_arrival by the serial order of the patient in the day\n",
    "admission_data['daily_order_of_arrival'] = admission_data.groupby('D.O.A').cumcount() + 1"
   ],
   "metadata": {
    "collapsed": false,
    "ExecuteTime": {
     "end_time": "2024-06-26T14:54:39.447686371Z",
     "start_time": "2024-06-26T14:54:39.439068399Z"
    }
   },
   "id": "1ac6d267c4fa907a",
   "execution_count": 23
  },
  {
   "cell_type": "code",
   "outputs": [
    {
     "data": {
      "text/plain": "           D.O.A  daily_order_of_arrival\nSNO                                     \n1     2017-01-04                       1\n2     2017-01-04                       2\n3     2017-01-04                       3\n4     2017-01-04                       4\n5     2017-01-04                       5\n...          ...                     ...\n15753 2019-03-31                       2\n15754 2019-03-31                       3\n15755 2019-03-31                       4\n15756 2019-03-31                       5\n15757 2019-03-31                       6\n\n[15757 rows x 2 columns]",
      "text/html": "<div>\n<style scoped>\n    .dataframe tbody tr th:only-of-type {\n        vertical-align: middle;\n    }\n\n    .dataframe tbody tr th {\n        vertical-align: top;\n    }\n\n    .dataframe thead th {\n        text-align: right;\n    }\n</style>\n<table border=\"1\" class=\"dataframe\">\n  <thead>\n    <tr style=\"text-align: right;\">\n      <th></th>\n      <th>D.O.A</th>\n      <th>daily_order_of_arrival</th>\n    </tr>\n    <tr>\n      <th>SNO</th>\n      <th></th>\n      <th></th>\n    </tr>\n  </thead>\n  <tbody>\n    <tr>\n      <th>1</th>\n      <td>2017-01-04</td>\n      <td>1</td>\n    </tr>\n    <tr>\n      <th>2</th>\n      <td>2017-01-04</td>\n      <td>2</td>\n    </tr>\n    <tr>\n      <th>3</th>\n      <td>2017-01-04</td>\n      <td>3</td>\n    </tr>\n    <tr>\n      <th>4</th>\n      <td>2017-01-04</td>\n      <td>4</td>\n    </tr>\n    <tr>\n      <th>5</th>\n      <td>2017-01-04</td>\n      <td>5</td>\n    </tr>\n    <tr>\n      <th>...</th>\n      <td>...</td>\n      <td>...</td>\n    </tr>\n    <tr>\n      <th>15753</th>\n      <td>2019-03-31</td>\n      <td>2</td>\n    </tr>\n    <tr>\n      <th>15754</th>\n      <td>2019-03-31</td>\n      <td>3</td>\n    </tr>\n    <tr>\n      <th>15755</th>\n      <td>2019-03-31</td>\n      <td>4</td>\n    </tr>\n    <tr>\n      <th>15756</th>\n      <td>2019-03-31</td>\n      <td>5</td>\n    </tr>\n    <tr>\n      <th>15757</th>\n      <td>2019-03-31</td>\n      <td>6</td>\n    </tr>\n  </tbody>\n</table>\n<p>15757 rows × 2 columns</p>\n</div>"
     },
     "execution_count": 32,
     "metadata": {},
     "output_type": "execute_result"
    }
   ],
   "source": [
    "admission_data[['D.O.A', 'daily_order_of_arrival']]"
   ],
   "metadata": {
    "collapsed": false,
    "ExecuteTime": {
     "end_time": "2024-06-26T15:06:12.622988405Z",
     "start_time": "2024-06-26T15:06:12.581727578Z"
    }
   },
   "id": "1b0a5bc957836ac6",
   "execution_count": 32
  },
  {
   "cell_type": "code",
   "outputs": [],
   "source": [
    "# convert outcome to binary\n",
    "admission_data['OUTCOME_binary'] = admission_data['OUTCOME'].apply(lambda x: 1 if x == 'EXPIRY' else 0)"
   ],
   "metadata": {
    "collapsed": false,
    "ExecuteTime": {
     "end_time": "2024-06-26T15:00:17.884589709Z",
     "start_time": "2024-06-26T15:00:17.855958103Z"
    }
   },
   "id": "1f28d403604ed1a",
   "execution_count": 29
  },
  {
   "cell_type": "code",
   "outputs": [
    {
     "data": {
      "text/plain": "OUTCOME_binary\n0    14652\n1     1105\nName: count, dtype: int64"
     },
     "execution_count": 30,
     "metadata": {},
     "output_type": "execute_result"
    }
   ],
   "source": [
    "admission_data['OUTCOME_binary'].value_counts()"
   ],
   "metadata": {
    "collapsed": false,
    "ExecuteTime": {
     "end_time": "2024-06-26T15:00:30.841843393Z",
     "start_time": "2024-06-26T15:00:30.777079261Z"
    }
   },
   "id": "4b71662f7de1eb61",
   "execution_count": 30
  },
  {
   "cell_type": "code",
   "outputs": [],
   "source": [
    "clean_data = admission_data.copy()"
   ],
   "metadata": {
    "collapsed": false,
    "ExecuteTime": {
     "end_time": "2024-06-26T15:02:49.364093221Z",
     "start_time": "2024-06-26T15:02:49.253819931Z"
    }
   },
   "id": "b0f9eaca68bba27c",
   "execution_count": 31
  },
  {
   "cell_type": "code",
   "outputs": [],
   "source": [
    "clean_data.drop(columns=['D.O.A', 'D.O.D', 'MRD No.'] , inplace=True)"
   ],
   "metadata": {
    "collapsed": false,
    "ExecuteTime": {
     "end_time": "2024-06-26T15:24:36.042051593Z",
     "start_time": "2024-06-26T15:24:35.994117307Z"
    }
   },
   "id": "48c5eac5fd46d8e6",
   "execution_count": 33
  },
  {
   "cell_type": "code",
   "outputs": [],
   "source": [
    "# save the cleaned data in a csv file\n",
    "clean_data.to_csv('../Data/cleaned_admission_data.csv')"
   ],
   "metadata": {
    "collapsed": false,
    "ExecuteTime": {
     "end_time": "2024-06-26T15:25:32.499974669Z",
     "start_time": "2024-06-26T15:25:32.260199986Z"
    }
   },
   "id": "b40ff47115c8e736",
   "execution_count": 34
  }
 ],
 "metadata": {
  "kernelspec": {
   "display_name": "Python 3",
   "language": "python",
   "name": "python3"
  },
  "language_info": {
   "codemirror_mode": {
    "name": "ipython",
    "version": 2
   },
   "file_extension": ".py",
   "mimetype": "text/x-python",
   "name": "python",
   "nbconvert_exporter": "python",
   "pygments_lexer": "ipython2",
   "version": "2.7.6"
  }
 },
 "nbformat": 4,
 "nbformat_minor": 5
}
